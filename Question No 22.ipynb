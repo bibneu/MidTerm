{
 "cells": [
  {
   "cell_type": "markdown",
   "id": "0ebdba8a-a668-4db4-911d-752275baaa36",
   "metadata": {},
   "source": [
    "**Question 22**\n",
    "## In a jupyter notebook solve the following question using both python and SQL. Please upload the notebook to GitHub and provide the link submission box below.##\n",
    "\n",
    "\n",
    "\n",
    "+---------------+---------+\n",
    "| Column Name   | Type    |\n",
    "+---------------+---------+\n",
    "| id            | int     |\n",
    "| recordDate    | date    |\n",
    "| temperature   | int     |\n",
    "+---------------+---------+\n",
    "id is the column with unique values for this table.\n",
    "This table contains information about the temperature on a certain day.\n",
    " \n",
    " \n",
    "\n",
    "Write a solution to find all dates' Id with higher temperatures compared to its previous dates (yesterday).\n",
    "\n",
    "Return the result table in any order.\n",
    "\n",
    "Please use the following input Weather table for your solution. To receive full marks you will need to create the database, create the table, insert the data below and execute the SQL query.\n",
    "\n",
    " \n",
    "\n",
    "Input: \n",
    "Weather table:\n",
    "+----+------------+-------------+\n",
    "| id | recordDate | temperature |\n",
    "+----+------------+-------------+\n",
    "| 1  | 2015-01-01 | 10          |\n",
    "| 2  | 2015-01-02 | 25          |\n",
    "| 3  | 2015-01-03 | 20          |\n",
    "| 4  | 2015-01-04 | 30          |\n",
    "+----+------------+-------------+\n",
    "Output: \n",
    "+----+\n",
    "| id |\n",
    "+----+\n",
    "| 2  |\n",
    "| 4  |\n",
    "+----+\n",
    "Explanation: \n",
    "In 2015-01-02, the temperature was higher than the previous day (10 -> 25).\n",
    "In 2015-01-04, the temperature was higher than the previous day (20 -> 30)."
   ]
  },
  {
   "cell_type": "code",
   "execution_count": 1,
   "id": "f62e6f19-d72e-415c-aed4-45a1fc043cbe",
   "metadata": {},
   "outputs": [],
   "source": [
    "import sqlite3\n",
    "\n",
    "import pandas as pd\n",
    "\n",
    "# connecting with database\n",
    "conn = sqlite3.connect('WeatherTemp.db')\n",
    "\n",
    "cursor = conn.cursor()\n",
    "#creating weather table\n",
    "\n",
    "create_table_query = '''\n",
    "\n",
    "CREATE TABLE WeatherTemp (\n",
    "id INT PRIMARY KEY,\n",
    "recordDate DATE,\n",
    "temperature INT\n",
    ");\n",
    "'''"
   ]
  },
  {
   "cell_type": "code",
   "execution_count": 3,
   "id": "2f47ecb5-5ca8-40cd-aa62-0ee16794ce10",
   "metadata": {},
   "outputs": [],
   "source": [
    "#insert data into db\n",
    "\n",
    "insert_data_query = '''\n",
    "INSERT INTO WeatherTemp (id,recordDate, temperature)\n",
    "VALUES\n",
    "(1,'2015-01-01',10),\n",
    "(2,'2015-01-02',25),\n",
    "(3,'2015-01-03',20),\n",
    "(4,'2015-01-04',30);\n",
    "\n",
    "'''"
   ]
  },
  {
   "cell_type": "code",
   "execution_count": 5,
   "id": "8b1b8de0-331c-4954-a604-0635ed985324",
   "metadata": {},
   "outputs": [],
   "source": [
    "#execute query\n",
    "cursor.execute(create_table_query)\n",
    "cursor.execute(insert_data_query)\n",
    "\n",
    "# commit\n",
    "conn.commit()\n",
    "#sql query to find higher temperature  compared to previous dates\n",
    "\n",
    "find_higher_tem_query = '''\n",
    "SELECT wt.id\n",
    "FROM WeatherTemp wt\n",
    "WHERE temperature > (\n",
    "     SELECT temperature\n",
    "     FROM WeatherTemp\n",
    "     WHERE recordDate = DATE(wt.recordDate, '-1 day')\n",
    "     );\n",
    "\n",
    "'''"
   ]
  },
  {
   "cell_type": "code",
   "execution_count": 7,
   "id": "d786b340-11c7-442e-9bfd-24f930b934c1",
   "metadata": {},
   "outputs": [
    {
     "name": "stdout",
     "output_type": "stream",
     "text": [
      "   id\n",
      "0   2\n",
      "1   4\n"
     ]
    }
   ],
   "source": [
    "#execute sql query\n",
    "data = pd.read_sql_query(find_higher_tem_query, conn)\n",
    "# print result\n",
    "print(data)"
   ]
  },
  {
   "cell_type": "code",
   "execution_count": null,
   "id": "b2dc17f0-0625-4ea1-96ca-e236bb14ab2d",
   "metadata": {},
   "outputs": [],
   "source": []
  }
 ],
 "metadata": {
  "kernelspec": {
   "display_name": "Python 3 (ipykernel)",
   "language": "python",
   "name": "python3"
  },
  "language_info": {
   "codemirror_mode": {
    "name": "ipython",
    "version": 3
   },
   "file_extension": ".py",
   "mimetype": "text/x-python",
   "name": "python",
   "nbconvert_exporter": "python",
   "pygments_lexer": "ipython3",
   "version": "3.12.4"
  }
 },
 "nbformat": 4,
 "nbformat_minor": 5
}
