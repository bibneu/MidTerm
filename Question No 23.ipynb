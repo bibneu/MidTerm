{
 "cells": [
  {
   "cell_type": "markdown",
   "id": "45dc51fe-01c6-42e2-ac62-9191e69b4d0b",
   "metadata": {},
   "source": [
    "**Question 23**\n",
    "\n",
    "## In a jupyter notebook solve the following question using python. Please upload the notebook to GitHub and provide the link submission box below. ##\n",
    "\n",
    "\n",
    "\n",
    "Develop a recursive function tough() that takes two nonnegative integer arguments and outputs a pattern as shown below. Hint: The first argument represents the indentation of the pattern, where the second argument -- always a pattern of 2 indicates the number *s in the longest line of *s in the pattern\n",
    "\n",
    "\n",
    "\n"
   ]
  },
  {
   "cell_type": "code",
   "execution_count": 3,
   "id": "dd70bec4-d23e-4b1c-af93-55920964fec4",
   "metadata": {},
   "outputs": [],
   "source": [
    "def tough(inden, num):\n",
    "    \n",
    "    if num>0:\n",
    "        tough(inden, num//2); # print pre. pattern\n",
    "        \n",
    "        print(\" \"*inden + \"*\"*num);  # print middle row of *s\n",
    "        \n",
    "        tough(inden+1, num//2); #print pre. pattern indented"
   ]
  },
  {
   "cell_type": "code",
   "execution_count": 5,
   "id": "65dc3edb-7292-440f-b63c-e6f2bbc5ddd4",
   "metadata": {},
   "outputs": [],
   "source": [
    "tough(0,0)"
   ]
  },
  {
   "cell_type": "code",
   "execution_count": 7,
   "id": "56178fb0-55cf-4761-a6d3-7e8b9eddcef5",
   "metadata": {},
   "outputs": [
    {
     "name": "stdout",
     "output_type": "stream",
     "text": [
      "*\n"
     ]
    }
   ],
   "source": [
    "tough(0,1)"
   ]
  },
  {
   "cell_type": "code",
   "execution_count": 10,
   "id": "21c96261-342b-44a3-bf88-e03bb218bada",
   "metadata": {},
   "outputs": [
    {
     "name": "stdout",
     "output_type": "stream",
     "text": [
      "*\n",
      "**\n",
      " *\n"
     ]
    }
   ],
   "source": [
    "tough(0,2)"
   ]
  },
  {
   "cell_type": "code",
   "execution_count": 12,
   "id": "d8f8d01e-b39b-4ef8-844c-ec66a9426fb8",
   "metadata": {},
   "outputs": [
    {
     "name": "stdout",
     "output_type": "stream",
     "text": [
      "*\n",
      "**\n",
      " *\n",
      "****\n",
      " *\n",
      " **\n",
      "  *\n"
     ]
    }
   ],
   "source": [
    "tough(0,4)"
   ]
  }
 ],
 "metadata": {
  "kernelspec": {
   "display_name": "Python 3 (ipykernel)",
   "language": "python",
   "name": "python3"
  },
  "language_info": {
   "codemirror_mode": {
    "name": "ipython",
    "version": 3
   },
   "file_extension": ".py",
   "mimetype": "text/x-python",
   "name": "python",
   "nbconvert_exporter": "python",
   "pygments_lexer": "ipython3",
   "version": "3.12.4"
  }
 },
 "nbformat": 4,
 "nbformat_minor": 5
}
