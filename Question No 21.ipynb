{
 "cells": [
  {
   "cell_type": "markdown",
   "id": "f55cb7e2-c662-4b32-a5bd-b603f4376e5d",
   "metadata": {},
   "source": [
    "**Question 21**\n",
    "\n",
    "## In a jupyter notebook solve the following question. Please upload the notebook to GitHub and provide the link submission box below. ##\n",
    "\n",
    " \n",
    "\n",
    "__int()__: Constructor that takes as input a pair of Point objects that represent the ends points of the line segment\n",
    "\n",
    "Length():: returns the length if the segment \n",
    "\n",
    "Slope() returns the slope of the segment of none if the slope is unbounded \n",
    "\n",
    " \n",
    "\n",
    ">>> p1 = Point(3,4)\n",
    "\n",
    ">>> p2 = Point()\n",
    "\n",
    ">>> s = Segment(p1,p2)\n",
    "\n",
    ">>> s.length()\n",
    "\n",
    "5.0\n",
    "\n",
    ">>> s.slope()\n",
    "\n",
    "0.75"
   ]
  },
  {
   "cell_type": "code",
   "execution_count": 2,
   "id": "e8e32443-5db2-4b19-bf48-47357f58729e",
   "metadata": {},
   "outputs": [
    {
     "name": "stdout",
     "output_type": "stream",
     "text": [
      "5.0\n",
      "1.3333333333333333\n"
     ]
    }
   ],
   "source": [
    "#define class point \n",
    "import math\n",
    "\n",
    "class Point:\n",
    "    def __init__(self, x =0, y=0):\n",
    "        self.x =x\n",
    "        self.y=y\n",
    "        \n",
    "# define segment class\n",
    "\n",
    "class Segment:\n",
    "    \n",
    "    def __init__(self, p1, p2): #constructor\n",
    "        \n",
    "        self.p1 =p1\n",
    "        self.p2 =p2\n",
    "        \n",
    "    def Length(self):\n",
    "        \n",
    "        distance = math.sqrt((self.p2.x - self.p1.x)**2 + (self.p2.y-self.p1.y)**2)\n",
    "        return distance\n",
    "        \n",
    "    def Slope(self):\n",
    "        \n",
    "        if self.p2.x-self.p1.x ==0:\n",
    "            return None\n",
    "        \n",
    "        slope = (self.p2.y-self.p1.y)/(self.p2.x-self.p1.x)\n",
    "        return slope\n",
    "    \n",
    "p1 = Point(3,4)\n",
    "p2 = Point()\n",
    "s = Segment(p1,p2)\n",
    "\n",
    "print(s.Length()) # lenth print\n",
    "\n",
    "print(s.Slope()) # generally slope m = (y-y1)/(x-x1) here x =3 , y=4 so m = 4/3"
   ]
  },
  {
   "cell_type": "code",
   "execution_count": null,
   "id": "8755bb1c-3633-4899-8255-936ebce37ee1",
   "metadata": {},
   "outputs": [],
   "source": []
  }
 ],
 "metadata": {
  "kernelspec": {
   "display_name": "Python 3 (ipykernel)",
   "language": "python",
   "name": "python3"
  },
  "language_info": {
   "codemirror_mode": {
    "name": "ipython",
    "version": 3
   },
   "file_extension": ".py",
   "mimetype": "text/x-python",
   "name": "python",
   "nbconvert_exporter": "python",
   "pygments_lexer": "ipython3",
   "version": "3.12.4"
  }
 },
 "nbformat": 4,
 "nbformat_minor": 5
}
